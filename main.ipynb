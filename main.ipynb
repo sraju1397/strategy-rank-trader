{
 "cells": [
  {
   "cell_type": "code",
   "id": "initial_id",
   "metadata": {
    "collapsed": true,
    "ExecuteTime": {
     "end_time": "2024-08-05T13:22:24.841512Z",
     "start_time": "2024-08-05T13:22:24.834521Z"
    }
   },
   "source": [
    "import pandas as pd\n",
    "import os\n",
    "from datetime import datetime\n",
    "import re"
   ],
   "outputs": [],
   "execution_count": 6
  },
  {
   "metadata": {
    "ExecuteTime": {
     "end_time": "2024-08-05T13:22:24.855802Z",
     "start_time": "2024-08-05T13:22:24.843569Z"
    }
   },
   "cell_type": "code",
   "source": [
    "def process_csv_files(folder_path, frequency='Daily', rank_filter=1):\n",
    "    try:\n",
    "        # Step 1: Read all CSV files in the folder\n",
    "        all_data = []\n",
    "        for filename in os.listdir(folder_path):\n",
    "            if filename.endswith('.csv'):\n",
    "                file_path = os.path.join(folder_path, filename)\n",
    "                df = pd.read_csv(file_path)\n",
    "                df['Strategy'] = filename.replace('.csv', '')\n",
    "                all_data.append(df)\n",
    "\n",
    "        if not all_data:\n",
    "            print(f\"No CSV files found in {folder_path}\")\n",
    "            return pd.DataFrame(), pd.DataFrame()\n",
    "\n",
    "        # Combine all dataframes\n",
    "        combined_df = pd.concat(all_data, ignore_index=True)\n",
    "\n",
    "        # Step 2: Group by entry date and sum profit\n",
    "        combined_df.columns = combined_df.columns.str.lower()\n",
    "\n",
    "        # Convert entry_date to datetime, handling both \"YYYY-MM-DD\" and \"DD/MM/YY\" formats\n",
    "        combined_df['entry_date'] = pd.to_datetime(combined_df['entry_date'], format='%Y-%m-%d', errors='coerce')\n",
    "        mask = combined_df['entry_date'].isna()\n",
    "        combined_df.loc[mask, 'entry_date'] = pd.to_datetime(combined_df.loc[mask, 'entry_date'], format='%d/%m/%y')\n",
    "\n",
    "        # Ensure entry_date is just the date, no time component\n",
    "        combined_df['entry_date'] = combined_df['entry_date'].dt.date\n",
    "\n",
    "        grouped_df = combined_df.groupby(['entry_date', 'strategy'])['profit'].sum().reset_index()\n",
    "\n",
    "        # Step 3: Pivot the dataframe\n",
    "        pivot_df = grouped_df.pivot(index='entry_date', columns='strategy', values='profit').reset_index()\n",
    "        pivot_df = pivot_df.fillna(0)\n",
    "\n",
    "        # Apply frequency\n",
    "        if frequency != 'Daily':\n",
    "            pivot_df['entry_date'] = pd.to_datetime(pivot_df['entry_date'])\n",
    "            if frequency == 'Weekly':\n",
    "                pivot_df['entry_date'] = pivot_df['entry_date'] - pd.to_timedelta(pivot_df['entry_date'].dt.dayofweek,\n",
    "                                                                                  unit='D')\n",
    "            elif frequency == 'Monthly':\n",
    "                pivot_df['entry_date'] = pivot_df['entry_date'].dt.to_period('M').dt.to_timestamp()\n",
    "            elif frequency == 'Quarterly':\n",
    "                pivot_df['entry_date'] = pivot_df['entry_date'].dt.to_period('Q').dt.to_timestamp()\n",
    "\n",
    "            pivot_df = pivot_df.groupby('entry_date').sum().reset_index()\n",
    "\n",
    "        # Ensure entry_date is just the date again after frequency adjustments\n",
    "        pivot_df['entry_date'] = pd.to_datetime(pivot_df['entry_date']).dt.date\n",
    "\n",
    "        # Step 4: Rank strategies based on profit from the previous row\n",
    "        strategy_columns = pivot_df.columns.drop('entry_date')\n",
    "        pivot_df = pivot_df.sort_values('entry_date')\n",
    "\n",
    "        for i in range(len(pivot_df)):\n",
    "            if i == 0:\n",
    "                # For the first row, rank based on its own profits\n",
    "                ranks = pivot_df.iloc[i][strategy_columns].rank(ascending=False, method='min')\n",
    "            else:\n",
    "                # For subsequent rows, rank based on the previous row's profits\n",
    "                ranks = pivot_df.iloc[i - 1][strategy_columns].rank(ascending=False, method='min')\n",
    "\n",
    "            for strategy in strategy_columns:\n",
    "                pivot_df.loc[pivot_df.index[i], f'{strategy}_rank'] = ranks[strategy]\n",
    "\n",
    "        # Step 5: Prepare final output with strategy selection based on previous day's ranking\n",
    "        pivot_df['Date'] = pivot_df['entry_date']\n",
    "\n",
    "        selected_strategies = []\n",
    "        for i in range(len(pivot_df)):\n",
    "            if i == 0:\n",
    "                # For the first day, use its own ranking\n",
    "                selected_strategy = pivot_df.iloc[i][strategy_columns].idxmax()\n",
    "            else:\n",
    "                # For subsequent days, use the previous day's ranking\n",
    "                prev_ranks = pivot_df.iloc[i][\n",
    "                    [f'{col}_rank' for col in strategy_columns if f'{col}_rank' in pivot_df.columns]]\n",
    "\n",
    "                if not prev_ranks.empty:\n",
    "                    # Find the strategy with the rank closest to rank_filter\n",
    "                    rank_differences = abs(prev_ranks - rank_filter)\n",
    "                    closest_rank_strategy = rank_differences.idxmin()\n",
    "                    selected_strategy = closest_rank_strategy.replace('_rank', '')\n",
    "                else:\n",
    "                    # If no ranks are available, use the strategy with the highest profit\n",
    "                    selected_strategy = pivot_df.iloc[i][strategy_columns].idxmax()\n",
    "\n",
    "            selected_strategies.append(selected_strategy)\n",
    "\n",
    "        pivot_df['Selected_Strategy'] = selected_strategies\n",
    "        pivot_df['Selected_Profit'] = pivot_df.apply(lambda row: row[row['Selected_Strategy']], axis=1)\n",
    "\n",
    "        final_df = pivot_df[['Date', 'Selected_Strategy', 'Selected_Profit']]\n",
    "        final_df.columns = ['Date', 'Strategy', 'Profit']\n",
    "\n",
    "        # Remove duplicates\n",
    "        final_df = final_df.drop_duplicates()\n",
    "\n",
    "        # Ensure Date is in the correct format\n",
    "        final_df['Date'] = pd.to_datetime(final_df['Date']).dt.strftime('%Y-%m-%d')\n",
    "\n",
    "        return final_df, pivot_df\n",
    "\n",
    "    except Exception as e:\n",
    "        print(f\"An error occurred: {str(e)}\")\n",
    "        return pd.DataFrame(), pd.DataFrame()\n"
   ],
   "id": "d4b183a8f8e6b5ea",
   "outputs": [],
   "execution_count": 7
  },
  {
   "metadata": {
    "ExecuteTime": {
     "end_time": "2024-08-05T13:22:24.860406Z",
     "start_time": "2024-08-05T13:22:24.857191Z"
    }
   },
   "cell_type": "code",
   "source": [
    "def save_to_excel(df, file_name):\n",
    "    # Create 'output' folder if it doesn't exist\n",
    "    if not os.path.exists('output'):\n",
    "        os.makedirs('output')\n",
    "\n",
    "    # Save to Excel\n",
    "    full_path = os.path.join('output', file_name)\n",
    "    df.to_excel(full_path, index=False)\n",
    "    print(f\"Data saved to {full_path}\")"
   ],
   "id": "5c0c1944d35ae332",
   "outputs": [],
   "execution_count": 8
  },
  {
   "metadata": {
    "ExecuteTime": {
     "end_time": "2024-08-05T13:22:24.864612Z",
     "start_time": "2024-08-05T13:22:24.862279Z"
    }
   },
   "cell_type": "code",
   "source": [
    "def create_best_model_report(df):\n",
    "    # Melt the dataframe to long format\n",
    "    melted_df = df.melt(id_vars=['Date'], var_name='Strategy', value_name='Profit')\n",
    "    \n",
    "    # Sort by Date and Profit (descending) and keep only the best model for each date\n",
    "    best_model_df = melted_df.sort_values(['Date', 'Profit'], ascending=[True, False])\n",
    "    best_model_df = best_model_df.groupby('Date').first().reset_index()\n",
    "    \n",
    "    # Sort by Date\n",
    "    best_model_df = best_model_df.sort_values('Date')\n",
    "    \n",
    "    return best_model_df"
   ],
   "id": "fe7fa2a86f72e286",
   "outputs": [],
   "execution_count": 9
  },
  {
   "metadata": {
    "ExecuteTime": {
     "end_time": "2024-08-05T13:22:27.559062Z",
     "start_time": "2024-08-05T13:22:24.865688Z"
    }
   },
   "cell_type": "code",
   "source": [
    "# Usage\n",
    "folder = 'data/STRATEGIES/'\n",
    "# result = process_csv_files(folder)\n",
    "# print(result)\n",
    "\n",
    "frequencies = ['Daily', 'Weekly', 'Monthly', 'Quarterly']\n",
    "rank_filter = 1  # Change this to the desired rank\n",
    "\n",
    "\n",
    "for frequency in frequencies:\n",
    "    final_df, full_df = process_csv_files(folder, frequency=frequency, rank_filter=rank_filter)\n",
    "\n",
    "    # Save the main report\n",
    "    save_to_excel(final_df, f'best_strategy_{frequency.lower()}.xlsx')\n",
    "\n",
    "    # Save the full report\n",
    "    save_to_excel(full_df, f'full_analysis_{frequency.lower()}.xlsx')"
   ],
   "id": "38718e2577bb0fd3",
   "outputs": [
    {
     "name": "stdout",
     "output_type": "stream",
     "text": [
      "Data saved to output/best_strategy_daily.xlsx\n",
      "Data saved to output/full_analysis_daily.xlsx\n",
      "Data saved to output/best_strategy_weekly.xlsx\n",
      "Data saved to output/full_analysis_weekly.xlsx\n",
      "Data saved to output/best_strategy_monthly.xlsx\n",
      "Data saved to output/full_analysis_monthly.xlsx\n",
      "Data saved to output/best_strategy_quarterly.xlsx\n",
      "Data saved to output/full_analysis_quarterly.xlsx\n"
     ]
    }
   ],
   "execution_count": 10
  }
 ],
 "metadata": {
  "kernelspec": {
   "display_name": "Python 3",
   "language": "python",
   "name": "python3"
  },
  "language_info": {
   "codemirror_mode": {
    "name": "ipython",
    "version": 2
   },
   "file_extension": ".py",
   "mimetype": "text/x-python",
   "name": "python",
   "nbconvert_exporter": "python",
   "pygments_lexer": "ipython2",
   "version": "2.7.6"
  }
 },
 "nbformat": 4,
 "nbformat_minor": 5
}
